{
 "cells": [
  {
   "cell_type": "markdown",
   "id": "36c572ee-26a7-4c19-b169-ad671e595e59",
   "metadata": {},
   "source": [
    "# Linear Regression"
   ]
  },
  {
   "cell_type": "markdown",
   "id": "cf02658e-69f1-4030-a1a6-b7e2dc1189be",
   "metadata": {},
   "source": [
    "You will create a linar model to predict a target value for the California Housing Data."
   ]
  },
  {
   "cell_type": "code",
   "execution_count": 1,
   "id": "ad4417b1-e1de-4b97-9fd5-764866d2e134",
   "metadata": {},
   "outputs": [
    {
     "name": "stdout",
     "output_type": "stream",
     "text": [
      "   MedInc  HouseAge  AveRooms  AveBedrms  Population  AveOccup  Latitude  \\\n",
      "0  8.3252      41.0  6.984127   1.023810       322.0  2.555556     37.88   \n",
      "1  8.3014      21.0  6.238137   0.971880      2401.0  2.109842     37.86   \n",
      "2  7.2574      52.0  8.288136   1.073446       496.0  2.802260     37.85   \n",
      "3  5.6431      52.0  5.817352   1.073059       558.0  2.547945     37.85   \n",
      "4  3.8462      52.0  6.281853   1.081081       565.0  2.181467     37.85   \n",
      "\n",
      "   Longitude  target  \n",
      "0    -122.23   4.526  \n",
      "1    -122.22   3.585  \n",
      "2    -122.24   3.521  \n",
      "3    -122.25   3.413  \n",
      "4    -122.25   3.422  \n"
     ]
    }
   ],
   "source": [
    "from sklearn.datasets import fetch_california_housing\n",
    "import pandas as pd\n",
    "\n",
    "# Load the dataset\n",
    "california_housing = fetch_california_housing()\n",
    "\n",
    "# Convert to DataFrame for easier handling\n",
    "california_df = pd.DataFrame(data=california_housing.data, columns=california_housing.feature_names)\n",
    "\n",
    "# Add the target variable (median house value)\n",
    "california_df['target'] = california_housing.target\n",
    "\n",
    "# Display the first few rows\n",
    "print(california_df.head())\n"
   ]
  },
  {
   "cell_type": "markdown",
   "id": "1ce738ba-7845-4d13-9a43-fb3aa5e7cc77",
   "metadata": {},
   "source": [
    "Find a best fit linear model. Plot the data and the best fit line using some appropriate techniques.\n",
    "Determine the amount of variance explained by the linear model"
   ]
  },
  {
   "cell_type": "code",
   "execution_count": null,
   "id": "b650542e-c548-4f7b-b8f2-abf188c602eb",
   "metadata": {},
   "outputs": [],
   "source": []
  },
  {
   "cell_type": "markdown",
   "id": "0ffb7561-e614-471b-971d-d2313aecd3ca",
   "metadata": {},
   "source": [
    "Next, apply lasso and/or ridge regression to see if the results improve. Describe your results below with graphs and tables as appropriate."
   ]
  }
 ],
 "metadata": {
  "kernelspec": {
   "display_name": "Python 3 (ipykernel)",
   "language": "python",
   "name": "python3"
  },
  "language_info": {
   "codemirror_mode": {
    "name": "ipython",
    "version": 3
   },
   "file_extension": ".py",
   "mimetype": "text/x-python",
   "name": "python",
   "nbconvert_exporter": "python",
   "pygments_lexer": "ipython3",
   "version": "3.11.9"
  }
 },
 "nbformat": 4,
 "nbformat_minor": 5
}
